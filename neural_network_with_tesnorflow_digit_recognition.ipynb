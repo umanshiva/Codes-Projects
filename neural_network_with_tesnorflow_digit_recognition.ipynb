{
  "nbformat": 4,
  "nbformat_minor": 0,
  "metadata": {
    "colab": {
      "provenance": []
    },
    "kernelspec": {
      "name": "python3",
      "display_name": "Python 3"
    },
    "language_info": {
      "name": "python"
    }
  },
  "cells": [
    {
      "cell_type": "markdown",
      "source": [
        "#Importing essential modules"
      ],
      "metadata": {
        "id": "ISvpWbdWswA-"
      }
    },
    {
      "cell_type": "code",
      "source": [
        "!pip install -U tensorflow_datasets"
      ],
      "metadata": {
        "colab": {
          "base_uri": "https://localhost:8080/"
        },
        "id": "xrBUnEZntJ6w",
        "outputId": "f7ac7127-f64e-41a3-a927-821585d2134a"
      },
      "execution_count": null,
      "outputs": [
        {
          "output_type": "stream",
          "name": "stdout",
          "text": [
            "Requirement already satisfied: tensorflow_datasets in /usr/local/lib/python3.10/dist-packages (4.9.6)\n",
            "Requirement already satisfied: absl-py in /usr/local/lib/python3.10/dist-packages (from tensorflow_datasets) (1.4.0)\n",
            "Requirement already satisfied: click in /usr/local/lib/python3.10/dist-packages (from tensorflow_datasets) (8.1.7)\n",
            "Requirement already satisfied: dm-tree in /usr/local/lib/python3.10/dist-packages (from tensorflow_datasets) (0.1.8)\n",
            "Requirement already satisfied: immutabledict in /usr/local/lib/python3.10/dist-packages (from tensorflow_datasets) (4.2.0)\n",
            "Requirement already satisfied: numpy in /usr/local/lib/python3.10/dist-packages (from tensorflow_datasets) (1.25.2)\n",
            "Requirement already satisfied: promise in /usr/local/lib/python3.10/dist-packages (from tensorflow_datasets) (2.3)\n",
            "Requirement already satisfied: protobuf>=3.20 in /usr/local/lib/python3.10/dist-packages (from tensorflow_datasets) (3.20.3)\n",
            "Requirement already satisfied: psutil in /usr/local/lib/python3.10/dist-packages (from tensorflow_datasets) (5.9.5)\n",
            "Requirement already satisfied: pyarrow in /usr/local/lib/python3.10/dist-packages (from tensorflow_datasets) (14.0.2)\n",
            "Requirement already satisfied: requests>=2.19.0 in /usr/local/lib/python3.10/dist-packages (from tensorflow_datasets) (2.31.0)\n",
            "Requirement already satisfied: simple-parsing in /usr/local/lib/python3.10/dist-packages (from tensorflow_datasets) (0.1.5)\n",
            "Requirement already satisfied: tensorflow-metadata in /usr/local/lib/python3.10/dist-packages (from tensorflow_datasets) (1.15.0)\n",
            "Requirement already satisfied: termcolor in /usr/local/lib/python3.10/dist-packages (from tensorflow_datasets) (2.4.0)\n",
            "Requirement already satisfied: toml in /usr/local/lib/python3.10/dist-packages (from tensorflow_datasets) (0.10.2)\n",
            "Requirement already satisfied: tqdm in /usr/local/lib/python3.10/dist-packages (from tensorflow_datasets) (4.66.4)\n",
            "Requirement already satisfied: wrapt in /usr/local/lib/python3.10/dist-packages (from tensorflow_datasets) (1.14.1)\n",
            "Requirement already satisfied: array-record>=0.5.0 in /usr/local/lib/python3.10/dist-packages (from tensorflow_datasets) (0.5.1)\n",
            "Requirement already satisfied: etils[enp,epath,epy,etree]>=1.6.0 in /usr/local/lib/python3.10/dist-packages (from tensorflow_datasets) (1.7.0)\n",
            "Requirement already satisfied: fsspec in /usr/local/lib/python3.10/dist-packages (from etils[enp,epath,epy,etree]>=1.6.0->tensorflow_datasets) (2023.6.0)\n",
            "Requirement already satisfied: importlib_resources in /usr/local/lib/python3.10/dist-packages (from etils[enp,epath,epy,etree]>=1.6.0->tensorflow_datasets) (6.4.0)\n",
            "Requirement already satisfied: typing_extensions in /usr/local/lib/python3.10/dist-packages (from etils[enp,epath,epy,etree]>=1.6.0->tensorflow_datasets) (4.12.2)\n",
            "Requirement already satisfied: zipp in /usr/local/lib/python3.10/dist-packages (from etils[enp,epath,epy,etree]>=1.6.0->tensorflow_datasets) (3.19.2)\n",
            "Requirement already satisfied: charset-normalizer<4,>=2 in /usr/local/lib/python3.10/dist-packages (from requests>=2.19.0->tensorflow_datasets) (3.3.2)\n",
            "Requirement already satisfied: idna<4,>=2.5 in /usr/local/lib/python3.10/dist-packages (from requests>=2.19.0->tensorflow_datasets) (3.7)\n",
            "Requirement already satisfied: urllib3<3,>=1.21.1 in /usr/local/lib/python3.10/dist-packages (from requests>=2.19.0->tensorflow_datasets) (2.0.7)\n",
            "Requirement already satisfied: certifi>=2017.4.17 in /usr/local/lib/python3.10/dist-packages (from requests>=2.19.0->tensorflow_datasets) (2024.6.2)\n",
            "Requirement already satisfied: six in /usr/local/lib/python3.10/dist-packages (from promise->tensorflow_datasets) (1.16.0)\n",
            "Requirement already satisfied: docstring-parser~=0.15 in /usr/local/lib/python3.10/dist-packages (from simple-parsing->tensorflow_datasets) (0.16)\n"
          ]
        }
      ]
    },
    {
      "cell_type": "code",
      "execution_count": null,
      "metadata": {
        "id": "seL6iS1Gsu5r"
      },
      "outputs": [],
      "source": [
        "import numpy as np\n",
        "import matplotlib.pyplot as plt\n",
        "import math\n",
        "import tensorflow as tf\n",
        "import tensorflow_datasets as tfds\n",
        "tfds.disable_progress_bar()\n",
        "\n",
        "import logging\n",
        "logger = tf.get_logger()\n",
        "logger.setLevel(logging.ERROR)"
      ]
    },
    {
      "cell_type": "markdown",
      "source": [
        "#Defining Training and testing sets"
      ],
      "metadata": {
        "id": "L5niJZg8t4-R"
      }
    },
    {
      "cell_type": "code",
      "source": [
        "datasets, metadata = tfds.load('mnist', as_supervised=True, with_info=True)\n",
        "training_data, testing_data = datasets['train'], datasets['test']"
      ],
      "metadata": {
        "colab": {
          "base_uri": "https://localhost:8080/"
        },
        "id": "P1_03hx5t_RI",
        "outputId": "66f44771-3cfc-43e4-d1a8-c3fac092eeff"
      },
      "execution_count": null,
      "outputs": [
        {
          "output_type": "stream",
          "name": "stdout",
          "text": [
            "Downloading and preparing dataset 11.06 MiB (download: 11.06 MiB, generated: 21.00 MiB, total: 32.06 MiB) to /root/tensorflow_datasets/mnist/3.0.1...\n",
            "Dataset mnist downloaded and prepared to /root/tensorflow_datasets/mnist/3.0.1. Subsequent calls will reuse this data.\n"
          ]
        }
      ]
    },
    {
      "cell_type": "code",
      "source": [
        "classes = metadata.features['label'].names\n",
        "print(\"Classes: {}\".format(classes))"
      ],
      "metadata": {
        "colab": {
          "base_uri": "https://localhost:8080/"
        },
        "id": "qHzNk-M6uZha",
        "outputId": "5aee04c9-da45-478a-bc63-b6c37cfb9fca"
      },
      "execution_count": null,
      "outputs": [
        {
          "output_type": "stream",
          "name": "stdout",
          "text": [
            "Classes: ['0', '1', '2', '3', '4', '5', '6', '7', '8', '9']\n"
          ]
        }
      ]
    },
    {
      "cell_type": "markdown",
      "source": [
        "#Preprocessing"
      ],
      "metadata": {
        "id": "jAOV_26Lu1bo"
      }
    },
    {
      "cell_type": "code",
      "source": [
        "num_training = metadata.splits['train'].num_examples\n",
        "num_testing = metadata.splits['test'].num_examples"
      ],
      "metadata": {
        "id": "snDCQIHtvwyE"
      },
      "execution_count": null,
      "outputs": []
    },
    {
      "cell_type": "code",
      "source": [
        "def normalize(images, labels):\n",
        "  images = tf.cast(images, tf.float32)\n",
        "  images /= 255\n",
        "  return images, labels\n",
        "\n",
        "training_data = training_data.map(normalize)\n",
        "testing_data = testing_data.map(normalize)\n",
        "\n",
        "training_data = training_data.cache()\n",
        "testing_data = testing_data.cache()"
      ],
      "metadata": {
        "id": "A3e-fmecwY4T"
      },
      "execution_count": null,
      "outputs": []
    },
    {
      "cell_type": "markdown",
      "source": [
        "#Building the model"
      ],
      "metadata": {
        "id": "VRPEXFFAwycs"
      }
    },
    {
      "cell_type": "code",
      "source": [
        "def define_model(activation_fun_hidden, activation_fun_output):\n",
        "  model = tf.keras.Sequential([\n",
        "    tf.keras.layers.Flatten(input_shape = (28,28,1)),\n",
        "    tf.keras.layers.Dense(512, activation = activation_fun_hidden),\n",
        "    tf.keras.layers.Dense(10, activation = activation_fun_output)\n",
        "  ])\n",
        "\n",
        "  return model"
      ],
      "metadata": {
        "id": "_k9ukhoVw17o"
      },
      "execution_count": null,
      "outputs": []
    },
    {
      "cell_type": "code",
      "source": [
        "activation1 = tf.nn.relu\n",
        "activation2 = tf.nn.softmax\n",
        "\n",
        "Model = define_model(activation1, activation2)\n",
        "Model.compile(optimizer = 'sgd', loss = 'sparse_categorical_crossentropy', metrics = ['accuracy'])"
      ],
      "metadata": {
        "id": "vbb6AJr9ybM_"
      },
      "execution_count": null,
      "outputs": []
    },
    {
      "cell_type": "code",
      "source": [
        "batch_size = 50\n",
        "training_data = training_data.cache().repeat().shuffle(num_training).batch(batch_size)\n",
        "testing_data = testing_data.cache().batch(batch_size)"
      ],
      "metadata": {
        "id": "Ms0RA0fby1JH"
      },
      "execution_count": null,
      "outputs": []
    },
    {
      "cell_type": "code",
      "source": [
        "Model.fit(training_data, epochs = 30, steps_per_epoch = math.ceil(num_training/batch_size))"
      ],
      "metadata": {
        "colab": {
          "base_uri": "https://localhost:8080/"
        },
        "id": "leBlz7nkzZiH",
        "outputId": "6244a654-1772-461f-86fa-e94089db4938"
      },
      "execution_count": null,
      "outputs": [
        {
          "output_type": "stream",
          "name": "stdout",
          "text": [
            "Epoch 1/30\n",
            "1200/1200 [==============================] - 13s 5ms/step - loss: 0.7195 - accuracy: 0.8308\n",
            "Epoch 2/30\n",
            "1200/1200 [==============================] - 7s 6ms/step - loss: 0.3626 - accuracy: 0.9015\n",
            "Epoch 3/30\n",
            "1200/1200 [==============================] - 6s 5ms/step - loss: 0.3165 - accuracy: 0.9119\n",
            "Epoch 4/30\n",
            "1200/1200 [==============================] - 7s 5ms/step - loss: 0.2786 - accuracy: 0.9225\n",
            "Epoch 5/30\n",
            "1200/1200 [==============================] - 6s 5ms/step - loss: 0.2577 - accuracy: 0.9272\n",
            "Epoch 6/30\n",
            "1200/1200 [==============================] - 7s 6ms/step - loss: 0.2447 - accuracy: 0.9320\n",
            "Epoch 7/30\n",
            "1200/1200 [==============================] - 8s 6ms/step - loss: 0.2258 - accuracy: 0.9374\n",
            "Epoch 8/30\n",
            "1200/1200 [==============================] - 6s 5ms/step - loss: 0.2153 - accuracy: 0.9410\n",
            "Epoch 9/30\n",
            "1200/1200 [==============================] - 7s 6ms/step - loss: 0.1979 - accuracy: 0.9451\n",
            "Epoch 10/30\n",
            "1200/1200 [==============================] - 6s 5ms/step - loss: 0.1909 - accuracy: 0.9471\n",
            "Epoch 11/30\n",
            "1200/1200 [==============================] - 7s 6ms/step - loss: 0.1814 - accuracy: 0.9494\n",
            "Epoch 12/30\n",
            "1200/1200 [==============================] - 6s 5ms/step - loss: 0.1710 - accuracy: 0.9532\n",
            "Epoch 13/30\n",
            "1200/1200 [==============================] - 7s 6ms/step - loss: 0.1626 - accuracy: 0.9555\n",
            "Epoch 14/30\n",
            "1200/1200 [==============================] - 7s 6ms/step - loss: 0.1589 - accuracy: 0.9566\n",
            "Epoch 15/30\n",
            "1200/1200 [==============================] - 7s 6ms/step - loss: 0.1483 - accuracy: 0.9591\n",
            "Epoch 16/30\n",
            "1200/1200 [==============================] - 6s 5ms/step - loss: 0.1470 - accuracy: 0.9603\n",
            "Epoch 17/30\n",
            "1200/1200 [==============================] - 7s 6ms/step - loss: 0.1382 - accuracy: 0.9625\n",
            "Epoch 18/30\n",
            "1200/1200 [==============================] - 6s 5ms/step - loss: 0.1349 - accuracy: 0.9627\n",
            "Epoch 19/30\n",
            "1200/1200 [==============================] - 7s 6ms/step - loss: 0.1281 - accuracy: 0.9656\n",
            "Epoch 20/30\n",
            "1200/1200 [==============================] - 6s 5ms/step - loss: 0.1267 - accuracy: 0.9660\n",
            "Epoch 21/30\n",
            "1200/1200 [==============================] - 7s 6ms/step - loss: 0.1197 - accuracy: 0.9675\n",
            "Epoch 22/30\n",
            "1200/1200 [==============================] - 6s 5ms/step - loss: 0.1218 - accuracy: 0.9674\n",
            "Epoch 23/30\n",
            "1200/1200 [==============================] - 7s 6ms/step - loss: 0.1131 - accuracy: 0.9696\n",
            "Epoch 24/30\n",
            "1200/1200 [==============================] - 6s 5ms/step - loss: 0.1098 - accuracy: 0.9707\n",
            "Epoch 25/30\n",
            "1200/1200 [==============================] - 7s 6ms/step - loss: 0.1061 - accuracy: 0.9715\n",
            "Epoch 26/30\n",
            "1200/1200 [==============================] - 6s 5ms/step - loss: 0.1029 - accuracy: 0.9729\n",
            "Epoch 27/30\n",
            "1200/1200 [==============================] - 9s 7ms/step - loss: 0.1016 - accuracy: 0.9725\n",
            "Epoch 28/30\n",
            "1200/1200 [==============================] - 6s 5ms/step - loss: 0.0983 - accuracy: 0.9732\n",
            "Epoch 29/30\n",
            "1200/1200 [==============================] - 7s 6ms/step - loss: 0.0941 - accuracy: 0.9758\n",
            "Epoch 30/30\n",
            "1200/1200 [==============================] - 6s 5ms/step - loss: 0.0937 - accuracy: 0.9752\n"
          ]
        },
        {
          "output_type": "execute_result",
          "data": {
            "text/plain": [
              "<keras.src.callbacks.History at 0x7f709a9b3d60>"
            ]
          },
          "metadata": {},
          "execution_count": 9
        }
      ]
    },
    {
      "cell_type": "code",
      "source": [
        "test_loss, test_accuracy = Model.evaluate(testing_data, steps = math.ceil(num_testing/batch_size))\n",
        "print('Test Accuracy: {}'.format(test_accuracy))"
      ],
      "metadata": {
        "colab": {
          "base_uri": "https://localhost:8080/"
        },
        "id": "LS2op_JK0QTv",
        "outputId": "b708e5cd-2b17-4933-eaf3-3188baf36a69"
      },
      "execution_count": null,
      "outputs": [
        {
          "output_type": "stream",
          "name": "stdout",
          "text": [
            "200/200 [==============================] - 2s 7ms/step - loss: 0.1059 - accuracy: 0.9695\n",
            "Test Accuracy: 0.9695000052452087\n"
          ]
        }
      ]
    },
    {
      "cell_type": "code",
      "source": [
        "for test_images, test_labels in testing_data.take(1):\n",
        "  test_images = test_images.numpy()\n",
        "  test_labels = test_labels.numpy()\n",
        "  predictions = Model.predict(test_images)\n",
        "  fig, axes = plt.subplots(1,10, figsize = (30,15))\n",
        "  for i in range(10):\n",
        "    axes[i].imshow(test_images[i], cmap = plt.cm.binary)\n",
        "    axes[i].set_title(\"Label: {}, Prediction: {}\".format(test_labels[i],np.argmax(predictions[i])))\n",
        "\n",
        "print(predictions.shape)\n",
        "print(np.argmax(predictions[0]))\n",
        "print(test_labels[0])"
      ],
      "metadata": {
        "colab": {
          "base_uri": "https://localhost:8080/",
          "height": 246
        },
        "id": "LsjIweeF_xsu",
        "outputId": "9398f279-6ec7-42f2-aea3-0b2cd6d97370"
      },
      "execution_count": null,
      "outputs": [
        {
          "output_type": "stream",
          "name": "stdout",
          "text": [
            "2/2 [==============================] - 0s 11ms/step\n",
            "(50, 10)\n",
            "2\n",
            "2\n"
          ]
        },
        {
          "output_type": "display_data",
          "data": {
            "text/plain": [
              "<Figure size 3000x1500 with 10 Axes>"
            ],
            "image/png": "[encoded data removed]"
          },
          "metadata": {}
        }
      ]
    },
    {
      "cell_type": "markdown",
      "source": [
        "#Testing with different activation function"
      ],
      "metadata": {
        "id": "iwzgTre-Chef"
      }
    },
    {
      "cell_type": "code",
      "source": [
        "activation3 = tf.nn.sigmoid\n",
        "activation4 = tf.nn.tanh\n",
        "activation5 = tf.nn.leaky_relu\n",
        "\n",
        "model_sigmoid = define_model(activation3,activation2)\n",
        "model_tanh = define_model(activation4,activation2)\n",
        "model_leaky_relu = define_model(activation5,activation2)"
      ],
      "metadata": {
        "id": "dvek-3HAAvIb"
      },
      "execution_count": null,
      "outputs": []
    },
    {
      "cell_type": "code",
      "source": [
        "model_sigmoid.compile(optimizer = 'sgd', loss = 'sparse_categorical_crossentropy', metrics = ['accuracy'])\n",
        "model_tanh.compile(optimizer = 'sgd', loss = 'sparse_categorical_crossentropy', metrics = ['accuracy'])\n",
        "model_leaky_relu.compile(optimizer = 'sgd', loss = 'sparse_categorical_crossentropy', metrics = ['accuracy'])"
      ],
      "metadata": {
        "id": "fT1w4HEFCgjo"
      },
      "execution_count": null,
      "outputs": []
    },
    {
      "cell_type": "code",
      "source": [
        "model_sigmoid.fit(training_data, epochs = 30, steps_per_epoch = math.ceil(num_training/batch_size))"
      ],
      "metadata": {
        "colab": {
          "base_uri": "https://localhost:8080/"
        },
        "id": "epM64WIoEEzg",
        "outputId": "cc5f00bf-b7a6-4b45-e111-af7c9eadd9fc"
      },
      "execution_count": null,
      "outputs": [
        {
          "output_type": "stream",
          "name": "stdout",
          "text": [
            "Epoch 1/30\n",
            "1200/1200 [==============================] - 9s 7ms/step - loss: 1.5379 - accuracy: 0.6771\n",
            "Epoch 2/30\n",
            "1200/1200 [==============================] - 7s 6ms/step - loss: 0.8055 - accuracy: 0.8316\n",
            "Epoch 3/30\n",
            "1200/1200 [==============================] - 7s 6ms/step - loss: 0.5928 - accuracy: 0.8588\n",
            "Epoch 4/30\n",
            "1200/1200 [==============================] - 7s 6ms/step - loss: 0.5034 - accuracy: 0.8720\n",
            "Epoch 5/30\n",
            "1200/1200 [==============================] - 7s 6ms/step - loss: 0.4528 - accuracy: 0.8809\n",
            "Epoch 6/30\n",
            "1200/1200 [==============================] - 7s 6ms/step - loss: 0.4165 - accuracy: 0.8885\n",
            "Epoch 7/30\n",
            "1200/1200 [==============================] - 7s 6ms/step - loss: 0.4042 - accuracy: 0.8879\n",
            "Epoch 8/30\n",
            "1200/1200 [==============================] - 7s 5ms/step - loss: 0.3827 - accuracy: 0.8937\n",
            "Epoch 9/30\n",
            "1200/1200 [==============================] - 7s 6ms/step - loss: 0.3713 - accuracy: 0.8944\n",
            "Epoch 10/30\n",
            "1200/1200 [==============================] - 7s 6ms/step - loss: 0.3640 - accuracy: 0.8977\n",
            "Epoch 11/30\n",
            "1200/1200 [==============================] - 7s 6ms/step - loss: 0.3498 - accuracy: 0.8996\n",
            "Epoch 12/30\n",
            "1200/1200 [==============================] - 7s 5ms/step - loss: 0.3426 - accuracy: 0.9031\n",
            "Epoch 13/30\n",
            "1200/1200 [==============================] - 7s 6ms/step - loss: 0.3369 - accuracy: 0.9029\n",
            "Epoch 14/30\n",
            "1200/1200 [==============================] - 6s 5ms/step - loss: 0.3299 - accuracy: 0.9047\n",
            "Epoch 15/30\n",
            "1200/1200 [==============================] - 7s 6ms/step - loss: 0.3266 - accuracy: 0.9068\n",
            "Epoch 16/30\n",
            "1200/1200 [==============================] - 6s 5ms/step - loss: 0.3246 - accuracy: 0.9073\n",
            "Epoch 17/30\n",
            "1200/1200 [==============================] - 7s 6ms/step - loss: 0.3217 - accuracy: 0.9083\n",
            "Epoch 18/30\n",
            "1200/1200 [==============================] - 6s 5ms/step - loss: 0.3148 - accuracy: 0.9090\n",
            "Epoch 19/30\n",
            "1200/1200 [==============================] - 8s 6ms/step - loss: 0.3137 - accuracy: 0.9101\n",
            "Epoch 20/30\n",
            "1200/1200 [==============================] - 9s 7ms/step - loss: 0.3146 - accuracy: 0.9093\n",
            "Epoch 21/30\n",
            "1200/1200 [==============================] - 9s 7ms/step - loss: 0.3140 - accuracy: 0.9101\n",
            "Epoch 22/30\n",
            "1200/1200 [==============================] - 7s 6ms/step - loss: 0.3000 - accuracy: 0.9141\n",
            "Epoch 23/30\n",
            "1200/1200 [==============================] - 6s 5ms/step - loss: 0.2984 - accuracy: 0.9149\n",
            "Epoch 24/30\n",
            "1200/1200 [==============================] - 8s 6ms/step - loss: 0.3081 - accuracy: 0.9115\n",
            "Epoch 25/30\n",
            "1200/1200 [==============================] - 6s 5ms/step - loss: 0.2967 - accuracy: 0.9151\n",
            "Epoch 26/30\n",
            "1200/1200 [==============================] - 8s 6ms/step - loss: 0.3005 - accuracy: 0.9140\n",
            "Epoch 27/30\n",
            "1200/1200 [==============================] - 6s 5ms/step - loss: 0.2924 - accuracy: 0.9164\n",
            "Epoch 28/30\n",
            "1200/1200 [==============================] - 7s 6ms/step - loss: 0.2936 - accuracy: 0.9147\n",
            "Epoch 29/30\n",
            "1200/1200 [==============================] - 6s 5ms/step - loss: 0.2903 - accuracy: 0.9173\n",
            "Epoch 30/30\n",
            "1200/1200 [==============================] - 8s 6ms/step - loss: 0.2907 - accuracy: 0.9166\n"
          ]
        },
        {
          "output_type": "execute_result",
          "data": {
            "text/plain": [
              "<keras.src.callbacks.History at 0x7f708a6b9e40>"
            ]
          },
          "metadata": {},
          "execution_count": 14
        }
      ]
    },
    {
      "cell_type": "code",
      "source": [
        "model_tanh.fit(training_data, epochs = 30, steps_per_epoch = math.ceil(num_training/batch_size))"
      ],
      "metadata": {
        "colab": {
          "base_uri": "https://localhost:8080/"
        },
        "id": "XQj5q3iAd9t1",
        "outputId": "91db1b15-01ea-4cb0-c899-036c47edd2bd"
      },
      "execution_count": null,
      "outputs": [
        {
          "output_type": "stream",
          "name": "stdout",
          "text": [
            "Epoch 1/30\n",
            "1200/1200 [==============================] - 7s 5ms/step - loss: 0.6514 - accuracy: 0.8384\n",
            "Epoch 2/30\n",
            "1200/1200 [==============================] - 7s 6ms/step - loss: 0.3774 - accuracy: 0.8944\n",
            "Epoch 3/30\n",
            "1200/1200 [==============================] - 6s 5ms/step - loss: 0.3385 - accuracy: 0.9050\n",
            "Epoch 4/30\n",
            "1200/1200 [==============================] - 8s 6ms/step - loss: 0.3171 - accuracy: 0.9108\n",
            "Epoch 5/30\n",
            "1200/1200 [==============================] - 6s 5ms/step - loss: 0.2981 - accuracy: 0.9167\n",
            "Epoch 6/30\n",
            "1200/1200 [==============================] - 8s 6ms/step - loss: 0.2900 - accuracy: 0.9175\n",
            "Epoch 7/30\n",
            "1200/1200 [==============================] - 6s 5ms/step - loss: 0.2810 - accuracy: 0.9189\n",
            "Epoch 8/30\n",
            "1200/1200 [==============================] - 8s 6ms/step - loss: 0.2791 - accuracy: 0.9221\n",
            "Epoch 9/30\n",
            "1200/1200 [==============================] - 6s 5ms/step - loss: 0.2683 - accuracy: 0.9240\n",
            "Epoch 10/30\n",
            "1200/1200 [==============================] - 8s 6ms/step - loss: 0.2623 - accuracy: 0.9258\n",
            "Epoch 11/30\n",
            "1200/1200 [==============================] - 7s 6ms/step - loss: 0.2515 - accuracy: 0.9294\n",
            "Epoch 12/30\n",
            "1200/1200 [==============================] - 10s 8ms/step - loss: 0.2493 - accuracy: 0.9299\n",
            "Epoch 13/30\n",
            "1200/1200 [==============================] - 7s 6ms/step - loss: 0.2458 - accuracy: 0.9314\n",
            "Epoch 14/30\n",
            "1200/1200 [==============================] - 7s 6ms/step - loss: 0.2344 - accuracy: 0.9347\n",
            "Epoch 15/30\n",
            "1200/1200 [==============================] - 7s 6ms/step - loss: 0.2276 - accuracy: 0.9367\n",
            "Epoch 16/30\n",
            "1200/1200 [==============================] - 7s 6ms/step - loss: 0.2235 - accuracy: 0.9378\n",
            "Epoch 17/30\n",
            "1200/1200 [==============================] - 8s 6ms/step - loss: 0.2189 - accuracy: 0.9393\n",
            "Epoch 18/30\n",
            "1200/1200 [==============================] - 6s 5ms/step - loss: 0.2122 - accuracy: 0.9414\n",
            "Epoch 19/30\n",
            "1200/1200 [==============================] - 9s 7ms/step - loss: 0.2053 - accuracy: 0.9431\n",
            "Epoch 20/30\n",
            "1200/1200 [==============================] - 6s 5ms/step - loss: 0.1984 - accuracy: 0.9444\n",
            "Epoch 21/30\n",
            "1200/1200 [==============================] - 8s 6ms/step - loss: 0.1917 - accuracy: 0.9474\n",
            "Epoch 22/30\n",
            "1200/1200 [==============================] - 6s 5ms/step - loss: 0.1903 - accuracy: 0.9468\n",
            "Epoch 23/30\n",
            "1200/1200 [==============================] - 7s 6ms/step - loss: 0.1848 - accuracy: 0.9479\n",
            "Epoch 24/30\n",
            "1200/1200 [==============================] - 6s 5ms/step - loss: 0.1780 - accuracy: 0.9516\n",
            "Epoch 25/30\n",
            "1200/1200 [==============================] - 7s 6ms/step - loss: 0.1757 - accuracy: 0.9509\n",
            "Epoch 26/30\n",
            "1200/1200 [==============================] - 6s 5ms/step - loss: 0.1674 - accuracy: 0.9539\n",
            "Epoch 27/30\n",
            "1200/1200 [==============================] - 7s 6ms/step - loss: 0.1682 - accuracy: 0.9529\n",
            "Epoch 28/30\n",
            "1200/1200 [==============================] - 6s 5ms/step - loss: 0.1609 - accuracy: 0.9552\n",
            "Epoch 29/30\n",
            "1200/1200 [==============================] - 7s 6ms/step - loss: 0.1578 - accuracy: 0.9563\n",
            "Epoch 30/30\n",
            "1200/1200 [==============================] - 6s 5ms/step - loss: 0.1531 - accuracy: 0.9570\n"
          ]
        },
        {
          "output_type": "execute_result",
          "data": {
            "text/plain": [
              "<keras.src.callbacks.History at 0x7f70984afb50>"
            ]
          },
          "metadata": {},
          "execution_count": 15
        }
      ]
    },
    {
      "cell_type": "code",
      "source": [
        "model_leaky_relu.fit(training_data, epochs = 30, steps_per_epoch = math.ceil(num_training/batch_size))"
      ],
      "metadata": {
        "colab": {
          "base_uri": "https://localhost:8080/"
        },
        "id": "BsFpFmYxnP56",
        "outputId": "7dd71699-6df8-4cfd-bfca-61a08b571d01"
      },
      "execution_count": null,
      "outputs": [
        {
          "output_type": "stream",
          "name": "stdout",
          "text": [
            "Epoch 1/30\n",
            "1200/1200 [==============================] - 8s 6ms/step - loss: 0.7237 - accuracy: 0.8262\n",
            "Epoch 2/30\n",
            "1200/1200 [==============================] - 6s 5ms/step - loss: 0.3713 - accuracy: 0.8974\n",
            "Epoch 3/30\n",
            "1200/1200 [==============================] - 8s 6ms/step - loss: 0.3251 - accuracy: 0.9095\n",
            "Epoch 4/30\n",
            "1200/1200 [==============================] - 6s 5ms/step - loss: 0.2977 - accuracy: 0.9171\n",
            "Epoch 5/30\n",
            "1200/1200 [==============================] - 7s 6ms/step - loss: 0.2788 - accuracy: 0.9233\n",
            "Epoch 6/30\n",
            "1200/1200 [==============================] - 6s 5ms/step - loss: 0.2585 - accuracy: 0.9273\n",
            "Epoch 7/30\n",
            "1200/1200 [==============================] - 8s 6ms/step - loss: 0.2461 - accuracy: 0.9316\n",
            "Epoch 8/30\n",
            "1200/1200 [==============================] - 6s 5ms/step - loss: 0.2368 - accuracy: 0.9352\n",
            "Epoch 9/30\n",
            "1200/1200 [==============================] - 8s 7ms/step - loss: 0.2278 - accuracy: 0.9373\n",
            "Epoch 10/30\n",
            "1200/1200 [==============================] - 7s 6ms/step - loss: 0.2174 - accuracy: 0.9397\n",
            "Epoch 11/30\n",
            "1200/1200 [==============================] - 7s 6ms/step - loss: 0.2057 - accuracy: 0.9428\n",
            "Epoch 12/30\n",
            "1200/1200 [==============================] - 6s 5ms/step - loss: 0.1991 - accuracy: 0.9455\n",
            "Epoch 13/30\n",
            "1200/1200 [==============================] - 8s 6ms/step - loss: 0.1926 - accuracy: 0.9468\n",
            "Epoch 14/30\n",
            "1200/1200 [==============================] - 6s 5ms/step - loss: 0.1873 - accuracy: 0.9481\n",
            "Epoch 15/30\n",
            "1200/1200 [==============================] - 8s 7ms/step - loss: 0.1760 - accuracy: 0.9515\n",
            "Epoch 16/30\n",
            "1200/1200 [==============================] - 6s 5ms/step - loss: 0.1719 - accuracy: 0.9525\n",
            "Epoch 17/30\n",
            "1200/1200 [==============================] - 7s 6ms/step - loss: 0.1674 - accuracy: 0.9538\n",
            "Epoch 18/30\n",
            "1200/1200 [==============================] - 6s 5ms/step - loss: 0.1598 - accuracy: 0.9548\n",
            "Epoch 19/30\n",
            "1200/1200 [==============================] - 7s 6ms/step - loss: 0.1546 - accuracy: 0.9577\n",
            "Epoch 20/30\n",
            "1200/1200 [==============================] - 6s 5ms/step - loss: 0.1490 - accuracy: 0.9590\n",
            "Epoch 21/30\n",
            "1200/1200 [==============================] - 7s 6ms/step - loss: 0.1481 - accuracy: 0.9592\n",
            "Epoch 22/30\n",
            "1200/1200 [==============================] - 7s 6ms/step - loss: 0.1421 - accuracy: 0.9609\n",
            "Epoch 23/30\n",
            "1200/1200 [==============================] - 7s 6ms/step - loss: 0.1374 - accuracy: 0.9625\n",
            "Epoch 24/30\n",
            "1200/1200 [==============================] - 6s 5ms/step - loss: 0.1337 - accuracy: 0.9635\n",
            "Epoch 25/30\n",
            "1200/1200 [==============================] - 7s 6ms/step - loss: 0.1291 - accuracy: 0.9643\n",
            "Epoch 26/30\n",
            "1200/1200 [==============================] - 7s 6ms/step - loss: 0.1300 - accuracy: 0.9651\n",
            "Epoch 27/30\n",
            "1200/1200 [==============================] - 7s 6ms/step - loss: 0.1238 - accuracy: 0.9662\n",
            "Epoch 28/30\n",
            "1200/1200 [==============================] - 6s 5ms/step - loss: 0.1210 - accuracy: 0.9673\n",
            "Epoch 29/30\n",
            "1200/1200 [==============================] - 7s 6ms/step - loss: 0.1180 - accuracy: 0.9674\n",
            "Epoch 30/30\n",
            "1200/1200 [==============================] - 8s 7ms/step - loss: 0.1137 - accuracy: 0.9696\n"
          ]
        },
        {
          "output_type": "execute_result",
          "data": {
            "text/plain": [
              "<keras.src.callbacks.History at 0x7f70984ad6c0>"
            ]
          },
          "metadata": {},
          "execution_count": 16
        }
      ]
    },
    {
      "cell_type": "code",
      "source": [
        "test_loss_sigmoid, test_accuracy_sigmoid = model_sigmoid.evaluate(testing_data, steps = math.ceil(num_testing/batch_size))\n",
        "test_loss_tanh, test_accuracy_tanh = model_tanh.evaluate(testing_data, steps = math.ceil(num_testing/batch_size))\n",
        "test_loss_leaky_relu, test_accuracy_leaky_relu = model_leaky_relu.evaluate(testing_data, steps = math.ceil(num_testing/batch_size))\n",
        "\n",
        "print(\"Test accuracy of sigmoid: \", test_accuracy_sigmoid)\n",
        "print(\"Test accuracy of tanh: \", test_accuracy_tanh)\n",
        "print(\"Test accuracy of leaky relu: \", test_accuracy_leaky_relu)"
      ],
      "metadata": {
        "colab": {
          "base_uri": "https://localhost:8080/"
        },
        "id": "9izHcKal31n9",
        "outputId": "1ba164ff-d9dd-4f1d-e4fd-d46ddf78338c"
      },
      "execution_count": null,
      "outputs": [
        {
          "output_type": "stream",
          "name": "stdout",
          "text": [
            "200/200 [==============================] - 1s 5ms/step - loss: 0.2813 - accuracy: 0.9190\n",
            "200/200 [==============================] - 1s 5ms/step - loss: 0.1583 - accuracy: 0.9549\n",
            "200/200 [==============================] - 1s 3ms/step - loss: 0.1238 - accuracy: 0.9635\n",
            "Test accuracy of sigmoid:  0.9190000295639038\n",
            "Test accuracy of tanh:  0.9549000263214111\n",
            "Test accuracy of leaky relu:  0.9635000228881836\n"
          ]
        }
      ]
    },
    {
      "cell_type": "markdown",
      "source": [
        "#Understanding Optimization algo"
      ],
      "metadata": {
        "id": "FmdVuZYd3lVb"
      }
    },
    {
      "cell_type": "code",
      "source": [
        "model = define_model(activation1, activation2)\n",
        "\n",
        "model.compile(optimizer = 'adam', loss = 'sparse_categorical_crossentropy', metrics = ['accuracy'])"
      ],
      "metadata": {
        "id": "K8jrunXc3mJf"
      },
      "execution_count": null,
      "outputs": []
    },
    {
      "cell_type": "code",
      "source": [
        "model.fit(training_data, epochs = 30, steps_per_epoch = math.ceil(num_training/batch_size))"
      ],
      "metadata": {
        "colab": {
          "base_uri": "https://localhost:8080/"
        },
        "id": "uxAHYsW8E4Ra",
        "outputId": "81c87b74-b366-4c7b-be0a-1775e6e7ac8e"
      },
      "execution_count": null,
      "outputs": [
        {
          "output_type": "stream",
          "name": "stdout",
          "text": [
            "Epoch 1/30\n",
            "1200/1200 [==============================] - 11s 8ms/step - loss: 0.2115 - accuracy: 0.9372\n",
            "Epoch 2/30\n",
            "1200/1200 [==============================] - 9s 7ms/step - loss: 0.0829 - accuracy: 0.9758\n",
            "Epoch 3/30\n",
            "1200/1200 [==============================] - 10s 8ms/step - loss: 0.0529 - accuracy: 0.9837\n",
            "Epoch 4/30\n",
            "1200/1200 [==============================] - 10s 9ms/step - loss: 0.0409 - accuracy: 0.9872\n",
            "Epoch 5/30\n",
            "1200/1200 [==============================] - 10s 9ms/step - loss: 0.0280 - accuracy: 0.9914\n",
            "Epoch 6/30\n",
            "1200/1200 [==============================] - 9s 8ms/step - loss: 0.0240 - accuracy: 0.9926\n",
            "Epoch 7/30\n",
            "1200/1200 [==============================] - 11s 9ms/step - loss: 0.0165 - accuracy: 0.9947\n",
            "Epoch 8/30\n",
            "1200/1200 [==============================] - 10s 9ms/step - loss: 0.0134 - accuracy: 0.9958\n",
            "Epoch 9/30\n",
            "1200/1200 [==============================] - 11s 9ms/step - loss: 0.0125 - accuracy: 0.9958\n",
            "Epoch 10/30\n",
            "1200/1200 [==============================] - 9s 8ms/step - loss: 0.0112 - accuracy: 0.9961\n",
            "Epoch 11/30\n",
            "1200/1200 [==============================] - 10s 9ms/step - loss: 0.0080 - accuracy: 0.9978\n",
            "Epoch 12/30\n",
            "1200/1200 [==============================] - 10s 9ms/step - loss: 0.0070 - accuracy: 0.9977\n",
            "Epoch 13/30\n",
            "1200/1200 [==============================] - 11s 10ms/step - loss: 0.0081 - accuracy: 0.9973\n",
            "Epoch 14/30\n",
            "1200/1200 [==============================] - 10s 8ms/step - loss: 0.0075 - accuracy: 0.9974\n",
            "Epoch 15/30\n",
            "1200/1200 [==============================] - 11s 9ms/step - loss: 0.0051 - accuracy: 0.9983\n",
            "Epoch 16/30\n",
            "1200/1200 [==============================] - 11s 9ms/step - loss: 0.0075 - accuracy: 0.9974\n",
            "Epoch 17/30\n",
            "1200/1200 [==============================] - 11s 9ms/step - loss: 0.0066 - accuracy: 0.9977\n",
            "Epoch 18/30\n",
            "1200/1200 [==============================] - 10s 8ms/step - loss: 0.0058 - accuracy: 0.9980\n",
            "Epoch 19/30\n",
            "1200/1200 [==============================] - 10s 8ms/step - loss: 0.0016 - accuracy: 0.9996\n",
            "Epoch 20/30\n",
            "1200/1200 [==============================] - 10s 9ms/step - loss: 0.0076 - accuracy: 0.9974\n",
            "Epoch 21/30\n",
            "1200/1200 [==============================] - 10s 9ms/step - loss: 0.0057 - accuracy: 0.9980\n",
            "Epoch 22/30\n",
            "1200/1200 [==============================] - 9s 8ms/step - loss: 0.0040 - accuracy: 0.9986\n",
            "Epoch 23/30\n",
            "1200/1200 [==============================] - 10s 8ms/step - loss: 0.0043 - accuracy: 0.9985\n",
            "Epoch 24/30\n",
            "1200/1200 [==============================] - 10s 8ms/step - loss: 0.0021 - accuracy: 0.9994\n",
            "Epoch 25/30\n",
            "1200/1200 [==============================] - 10s 8ms/step - loss: 0.0084 - accuracy: 0.9972\n",
            "Epoch 26/30\n",
            "1200/1200 [==============================] - 9s 8ms/step - loss: 0.0030 - accuracy: 0.9990\n",
            "Epoch 27/30\n",
            "1200/1200 [==============================] - 11s 10ms/step - loss: 5.5353e-04 - accuracy: 0.9999\n",
            "Epoch 28/30\n",
            "1200/1200 [==============================] - 10s 9ms/step - loss: 0.0076 - accuracy: 0.9976\n",
            "Epoch 29/30\n",
            "1200/1200 [==============================] - 9s 7ms/step - loss: 0.0026 - accuracy: 0.9990\n",
            "Epoch 30/30\n",
            "1200/1200 [==============================] - 10s 8ms/step - loss: 0.0047 - accuracy: 0.9985\n"
          ]
        },
        {
          "output_type": "execute_result",
          "data": {
            "text/plain": [
              "<keras.src.callbacks.History at 0x7f70892d3970>"
            ]
          },
          "metadata": {},
          "execution_count": 23
        }
      ]
    },
    {
      "cell_type": "markdown",
      "source": [
        "#Logistic Regression vs Neural Networks"
      ],
      "metadata": {
        "id": "tsC2rE0OMUtL"
      }
    },
    {
      "cell_type": "code",
      "source": [
        "##################################################\n",
        "#Generating binary classification data (linearly separable)\n",
        "##################################################\n",
        "import numpy as np\n",
        "import matplotlib.pyplot as plt\n",
        "\n",
        "mean1 = [1,1]\n",
        "mean2 = [3,3]\n",
        "cov = [[0.3,0],[0,0.3]]\n",
        "class1_tr = np.random.multivariate_normal(mean1, cov, size=(4500))\n",
        "class2_tr = np.random.multivariate_normal(mean2, cov, size=(4500))\n",
        "\n",
        "tr_data = np.concatenate([class1_tr, class2_tr], axis=0)\n",
        "tr_targets = np.concatenate([np.zeros(len(class1_tr)), np.ones(len(class2_tr))])\n",
        "\n",
        "class1_te = np.random.multivariate_normal(mean1, cov, size=(500))\n",
        "class2_te = np.random.multivariate_normal(mean2, cov, size=(500))\n",
        "\n",
        "te_data = np.concatenate([class1_te, class2_te], axis=0)\n",
        "te_targets = np.concatenate([np.zeros(len(class1_te)), np.ones(len(class2_te))])\n",
        "\n",
        "# Plot the data\n",
        "plt.figure(figsize=(8, 6))\n",
        "plt.scatter(class1_tr[:, 0], class1_tr[:, 1], color='blue', label='Class 1')\n",
        "plt.scatter(class2_tr[:, 0], class2_tr[:, 1], color='red', label='Class 2')\n",
        "plt.xlabel('Feature 1')\n",
        "plt.ylabel('Feature 2')\n",
        "plt.title('Binary classification data')\n",
        "plt.legend()\n",
        "plt.grid(True)\n",
        "plt.show()\n"
      ],
      "metadata": {
        "colab": {
          "base_uri": "https://localhost:8080/",
          "height": 564
        },
        "id": "CDn3b9W0MRQH",
        "outputId": "e569bdd8-0095-482b-d431-48677595ae09"
      },
      "execution_count": null,
      "outputs": [
        {
          "output_type": "display_data",
          "data": {
            "text/plain": [
              "<Figure size 800x600 with 1 Axes>"
            ],
            "image/png": "[encoded data removed]"
          },
          "metadata": {}
        }
      ]
    },
    {
      "cell_type": "markdown",
      "source": [
        "linear"
      ],
      "metadata": {
        "id": "v0jp3k_JMfnX"
      }
    },
    {
      "cell_type": "code",
      "source": [],
      "metadata": {
        "id": "M8ftMib2Me8x"
      },
      "execution_count": null,
      "outputs": []
    }
  ]
}